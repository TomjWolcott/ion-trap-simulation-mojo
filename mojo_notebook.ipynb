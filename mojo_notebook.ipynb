{
 "cells": [
  {
   "cell_type": "raw",
   "id": "initial_id",
   "metadata": {
    "vscode": {
     "languageId": "raw"
    }
   },
   "source": [
    "fn abc():\n",
    "    print(\"hi\")\n",
    "\n",
    "abc()\n"
   ]
  },
  {
   "cell_type": "code",
   "execution_count": null,
   "id": "6031f504-19fc-4f02-b2b7-9abebcf0b227",
   "metadata": {},
   "outputs": [],
   "source": []
  },
  {
   "cell_type": "code",
   "execution_count": null,
   "id": "4df9b6b2-93fa-4f66-99d1-23dcea407de6",
   "metadata": {},
   "outputs": [],
   "source": []
  }
 ],
 "metadata": {
  "kernelspec": {
   "display_name": "mojo-repo",
   "language": "python",
   "name": "python3"
  },
  "language_info": {
   "codemirror_mode": {
    "name": "ipython",
    "version": 3
   },
   "file_extension": ".py",
   "mimetype": "text/x-python",
   "name": "python",
   "nbconvert_exporter": "python",
   "pygments_lexer": "ipython3",
   "version": "3.13.0"
  }
 },
 "nbformat": 4,
 "nbformat_minor": 5
}
